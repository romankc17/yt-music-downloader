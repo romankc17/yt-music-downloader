{
 "metadata": {
  "language_info": {
   "codemirror_mode": {
    "name": "ipython",
    "version": 3
   },
   "file_extension": ".py",
   "mimetype": "text/x-python",
   "name": "python",
   "nbconvert_exporter": "python",
   "pygments_lexer": "ipython3",
   "version": "3.8.3-final"
  },
  "orig_nbformat": 2,
  "kernelspec": {
   "name": "python3",
   "display_name": "Python 3"
  }
 },
 "nbformat": 4,
 "nbformat_minor": 2,
 "cells": [
  {
   "cell_type": "code",
   "execution_count": 26,
   "metadata": {},
   "outputs": [],
   "source": [
    "import requests\n",
    "import base64\n",
    "import datetime"
   ]
  },
  {
   "cell_type": "code",
   "execution_count": 27,
   "metadata": {},
   "outputs": [],
   "source": [
    "client_id='3757c5b2008e42a2bf99ce18fa147d90'\n",
    "client_secret='5fe13571df374ad5a5936fa7cf97ef6b'"
   ]
  },
  {
   "cell_type": "code",
   "execution_count": 28,
   "metadata": {},
   "outputs": [],
   "source": [
    "client_creds = f\"{client_id}:{client_secret}\"\n",
    "client_creds_b64=base64.b64encode(client_creds.encode())"
   ]
  },
  {
   "cell_type": "code",
   "execution_count": 29,
   "metadata": {},
   "outputs": [],
   "source": [
    "token_url='https://accounts.spotify.com/api/token'\n",
    "method='POST'\n",
    "token_data={\n",
    "    'grant_type':'client_credentials',\n",
    "}\n",
    "token_headers={\n",
    "    'Authorization':f'Basic {client_creds_b64.decode()}'#Basic <base64 encoded client_id:client_secret>\n",
    "}"
   ]
  },
  {
   "cell_type": "code",
   "execution_count": 33,
   "metadata": {},
   "outputs": [
    {
     "output_type": "stream",
     "name": "stdout",
     "text": [
      "{'access_token': 'BQDh0gvsppR6RQSW4_QS_GSs2icZjjCSW9oJ1KnnUfXJvR6XqGcaZo2l2as8HBf0t3BTlurQFocRnlEFJWw', 'token_type': 'Bearer', 'expires_in': 3600, 'scope': ''}\n"
     ]
    }
   ],
   "source": [
    "r=requests.post(token_url, data=token_data,headers=token_headers)\n",
    "print(r.json())\n",
    "valid_request = r.status_code in range(200,299)\n",
    "token_response_data=r.json()\n"
   ]
  },
  {
   "cell_type": "code",
   "execution_count": 32,
   "metadata": {},
   "outputs": [],
   "source": [
    "if valid_request:\n",
    "    now=datetime.datetime.now()\n",
    "    access_token=token_response_data['access_token']\n",
    "    expires_in=token_response_data['expires_in']\n",
    "    expires = now + datetime.timedelta(seconds=expires_in)\n",
    "    did_expire = expires<now"
   ]
  }
 ]
}